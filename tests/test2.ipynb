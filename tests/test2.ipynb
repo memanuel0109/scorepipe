{
 "cells": [
  {
   "cell_type": "code",
   "execution_count": 1,
   "metadata": {},
   "outputs": [],
   "source": [
    "from scorepipe.pipe import ScorePipe\n",
    "from scorepipe.deployment import ModelDeployment\n",
    "from scorepipe.model import Rule"
   ]
  },
  {
   "cell_type": "code",
   "execution_count": 2,
   "metadata": {},
   "outputs": [],
   "source": [
    "def test(x):\n",
    "    return x+1\n",
    "\n",
    "def test2(x):\n",
    "    return x+2\n",
    "\n",
    "def test3(x):\n",
    "    return x+3"
   ]
  },
  {
   "cell_type": "code",
   "execution_count": 3,
   "metadata": {},
   "outputs": [],
   "source": [
    "#Set your champion model for this deployment\n",
    "champion_rule = Rule('test_main',func=test)\n",
    "\n",
    "#Add challenger models for this deployment\n",
    "challenger_rule = Rule('test_off',func=test2)\n",
    "challenger_rule2 = Rule('test_off2',func=test3)"
   ]
  },
  {
   "cell_type": "code",
   "execution_count": 13,
   "metadata": {},
   "outputs": [],
   "source": [
    "d1 = ModelDeployment('test_depolyment')\n",
    "d2 = ModelDeployment('test2_depolyment')"
   ]
  },
  {
   "cell_type": "code",
   "execution_count": 6,
   "metadata": {},
   "outputs": [
    {
     "data": {
      "text/plain": [
       "<scorepipe.deployment.model_deployment.ModelDeployment at 0x1028d8b90>"
      ]
     },
     "execution_count": 6,
     "metadata": {},
     "output_type": "execute_result"
    }
   ],
   "source": [
    "d1.add_models(champion=champion_rule,challengers=[challenger_rule,challenger_rule2])"
   ]
  },
  {
   "cell_type": "code",
   "execution_count": 7,
   "metadata": {},
   "outputs": [],
   "source": [
    "sp = ScorePipe()"
   ]
  },
  {
   "cell_type": "code",
   "execution_count": 14,
   "metadata": {},
   "outputs": [
    {
     "data": {
      "text/plain": [
       "<scorepipe.pipe.ScorePipe at 0x10293e0d0>"
      ]
     },
     "execution_count": 14,
     "metadata": {},
     "output_type": "execute_result"
    }
   ],
   "source": [
    "sp.add_deployment([d1,d2])"
   ]
  },
  {
   "cell_type": "code",
   "execution_count": 15,
   "metadata": {},
   "outputs": [
    {
     "data": {
      "text/plain": [
       "{'test_depolyment': {'test_depolyment': <scorepipe.deployment.model_deployment.ModelDeployment at 0x1029d7890>},\n",
       " 'test2_depolyment': {'test2_depolyment': <scorepipe.deployment.model_deployment.ModelDeployment at 0x1029d7850>}}"
      ]
     },
     "execution_count": 15,
     "metadata": {},
     "output_type": "execute_result"
    }
   ],
   "source": [
    "sp.pre_prediction(func=)\n",
    "sp.post_prediction(func=)"
   ]
  },
  {
   "cell_type": "code",
   "execution_count": null,
   "metadata": {},
   "outputs": [],
   "source": []
  }
 ],
 "metadata": {
  "kernelspec": {
   "display_name": "Python 3",
   "language": "python",
   "name": "python3"
  },
  "language_info": {
   "codemirror_mode": {
    "name": "ipython",
    "version": 3
   },
   "file_extension": ".py",
   "mimetype": "text/x-python",
   "name": "python",
   "nbconvert_exporter": "python",
   "pygments_lexer": "ipython3",
   "version": "3.7.7"
  }
 },
 "nbformat": 4,
 "nbformat_minor": 4
}
